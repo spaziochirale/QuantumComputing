{
 "cells": [
  {
   "cell_type": "markdown",
   "metadata": {
    "colab_type": "text",
    "id": "Z97R1Neh0QRG"
   },
   "source": [
    "# Introduzione  al progetto Jupyter"
   ]
  },
  {
   "cell_type": "markdown",
   "metadata": {
    "colab_type": "text",
    "id": "mGswc9aK0prA"
   },
   "source": [
    "\n",
    "**Jupyter Notebook** è una tecnologia che permette di realizzare e condividere pagine web interattive che contengono celle di codice, che possono essere editate ed eseguite, e blocchi di testo formattati.\n",
    "\n",
    "Un *notebook* costituisce quindi uno strumento molto valido nell'ambito della didattica, perché permette di distribuire agli studenti pagine di appunti interattivi, dove i blocchi di codice sorgente possono essere effettivamente eseguiti per verificare i risultati e modificati per effettuare esperimenti e prove.\n",
    "\n",
    "Un *notebook*  può essere distribuito sotto forma di pagina web, eseguita quindi su un server remoto, oppure sotto forma di file di testo in formato JSON che può essere eseguito sul computer dell'utilizzatore, a patto di aver installato e configurato un server Jupyter.\n",
    "\n",
    "**Quantum Lab** di IBM offre un server remoto gratuito che ospita un'installazione di Jupyter Server già configurata per eseguire codice in linguaggio Python che utilizza le librerie **Qiskit** per lo sviluppo di algoritmi quantistici.\n",
    "\n",
    "Grazie a *Quantum Lab* non è necessario installare e configurare sul proprio PC un ambiente di sviluppo Python e Qiskit per seguire il nostro corso di Quantum Computing."
   ]
  },
  {
   "cell_type": "markdown",
   "metadata": {
    "colab_type": "text",
    "id": "EsOBvIkQ5PV-"
   },
   "source": [
    "# Un esempio di notebook Jupyter"
   ]
  },
  {
   "cell_type": "code",
   "execution_count": null,
   "metadata": {},
   "outputs": [],
   "source": []
  },
  {
   "cell_type": "markdown",
   "metadata": {
    "colab_type": "text",
    "id": "awR-BSxn5ZoL"
   },
   "source": [
    "Questo stesso documento è stato realizzato come notebook Jupyter.\n",
    "\n",
    "Quella che segue è una cella attiva di codice.\n",
    "\n",
    "Posizionando il puntatore del mouse sulla cella è possibile eseguire il codice e visualizzare il risultato premendo la combinazione di tasti *Control+Enter*.\n",
    "Posizionando il cursore nella cella è possibile modificare il codice e rieseguire le istruzioni della cella visualizzandone gli effetti."
   ]
  },
  {
   "cell_type": "code",
   "execution_count": null,
   "metadata": {
    "colab": {},
    "colab_type": "code",
    "id": "5MJiP0_M6H8d"
   },
   "outputs": [],
   "source": [
    "a = 5\n",
    "b = 3\n",
    "print(a+b)"
   ]
  }
 ],
 "metadata": {
  "colab": {
   "include_colab_link": true,
   "name": "IntroduzioneColabGoogle.ipynb",
   "private_outputs": true,
   "provenance": [],
   "version": "0.3.2"
  },
  "kernelspec": {
   "display_name": "Python 3",
   "language": "python",
   "name": "python3"
  },
  "language_info": {
   "codemirror_mode": {
    "name": "ipython",
    "version": 3
   },
   "file_extension": ".py",
   "mimetype": "text/x-python",
   "name": "python",
   "nbconvert_exporter": "python",
   "pygments_lexer": "ipython3",
   "version": "3.8.6"
  }
 },
 "nbformat": 4,
 "nbformat_minor": 1
}
